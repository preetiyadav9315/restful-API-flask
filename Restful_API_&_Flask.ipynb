{
  "nbformat": 4,
  "nbformat_minor": 0,
  "metadata": {
    "colab": {
      "provenance": []
    },
    "kernelspec": {
      "name": "python3",
      "display_name": "Python 3"
    },
    "language_info": {
      "name": "python"
    }
  },
  "cells": [
    {
      "cell_type": "markdown",
      "source": [
        "#Restful API & Flask:"
      ],
      "metadata": {
        "id": "cnzz7vTHbxwW"
      }
    },
    {
      "cell_type": "markdown",
      "source": [
        "##1.What is a RESTful API?\n",
        "  - A RESTful API (Representational State Transfer Application Programming Interface) is a type of web API that adheres to the principles of REST architecture, which is a set of constraints for building scalable and maintainable web services."
      ],
      "metadata": {
        "id": "8_z_0AC6b32q"
      }
    },
    {
      "cell_type": "markdown",
      "source": [
        "##2.Explain the concept of API specification?\n",
        "  -  It defines:\n",
        "\n",
        "   - Endpoints: The URIs or paths (e.g., /users, /products/{id})\n",
        "\n",
        "   - Methods: The HTTP methods supported for each endpoint (GET, POST, etc.)\n",
        "\n",
        "   - Request Parameters: Path variables, query strings, headers, and body content\n",
        "\n",
        "   - Request and Response Formats: Usually in JSON or XML\n",
        "\n",
        "   - Authentication: How to authenticate (e.g., API keys, OAuth tokens)\n",
        "\n",
        "   - Status Codes: Expected HTTP responses (200 OK, 404 Not Found, etc.)\n",
        "\n",
        "   - Error Messages: Structured format for error handling"
      ],
      "metadata": {
        "id": "gBx3zSQ5cPea"
      }
    },
    {
      "cell_type": "markdown",
      "source": [],
      "metadata": {
        "id": "M2Z-ES9ab_mj"
      }
    },
    {
      "cell_type": "markdown",
      "source": [
        "##3.What is Flask, and why is it popular for building APIs?\n",
        "  - Flask is a lightweight, open-source web framework written in Python. It's widely used for building web applications and RESTful APIs, especially when simplicity and flexibility are key.\n",
        "    - Flask is a microframework, meaning it provides the essentials to get a web app or API running but doesn’t include built-in tools like form validation, database abstraction, or authentication by default.\n",
        "\n",
        "    - It is modular and extensible: you can add only what you need via extensions (e.g., Flask-RESTful, Flask-SQLAlchemy)."
      ],
      "metadata": {
        "id": "PtmH11SMcsn1"
      }
    },
    {
      "cell_type": "markdown",
      "source": [
        "##4.What is routing in Flask?\n",
        "  - Routing in Flask refers to the process of mapping URLs (web addresses) to Python functions, which are executed when a user accesses those URLs in a browser or through an API call."
      ],
      "metadata": {
        "id": "lIwuk793dDJW"
      }
    },
    {
      "cell_type": "markdown",
      "source": [
        "##5. How do you create a simple Flask application?\n",
        "  - Creating a simple Flask app means:\n",
        "\n",
        "  - Install Flask\n",
        "\n",
        "  - Write a Python file that sets up your app and defines what happens when someone visits a web page\n",
        "\n",
        "  - Run the app\n",
        "\n",
        "  - View it in your browser"
      ],
      "metadata": {
        "id": "lmYqpcm5dNQ9"
      }
    },
    {
      "cell_type": "markdown",
      "source": [
        "##6. What are HTTP methods used in RESTful APIs?\n",
        "  - In RESTful APIs, HTTP methods define what kind of action you want to perform on a resource (like a user, post, or product). Each method has a specific purpose and aligns with CRUD operations (Create, Read, Update, Delete).\n",
        "    - GET requests should not change anything—they are safe and idempotent (calling them multiple times has the same effect).\n",
        "\n",
        "   - PUT and DELETE are also idempotent, meaning repeating the request doesn’t change the outcome.\n",
        "\n",
        "   - POST is not idempotent—repeating it could create multiple new resources.\n",
        "\n",
        "   - PATCH is used for partial updates and is more efficient when you don't need to send the full data.\n",
        "\n"
      ],
      "metadata": {
        "id": "8Y_iR5iedrCd"
      }
    },
    {
      "cell_type": "markdown",
      "source": [],
      "metadata": {
        "id": "NiK3tdH5f6D1"
      }
    },
    {
      "cell_type": "markdown",
      "source": [
        "##7.What is the purpose of the @app.route() decorator in Flask?\n",
        "  - Purpose of @app.route()\n",
        "  - It maps a specific URL to a Python function.\n",
        "  - That function is called a view function, and it's what generates the response (like HTML or JSON).\n",
        "  - When someone accesses the URL in a browser or through an API request, Flask calls the corresponding function and sends the result back to the user."
      ],
      "metadata": {
        "id": "A648qpUPgGoC"
      }
    },
    {
      "cell_type": "markdown",
      "source": [
        "##8. What is the difference between GET and POST HTTP methods?\n",
        "  The differnece between GET and POST HTTP  is :\n",
        "  - Use GET when you just want to look at something.\n",
        "\n",
        "  - Use POST when you want to send something new to the server (like a form or a new record in a database)."
      ],
      "metadata": {
        "id": "oUDz5Y4pgYKe"
      }
    },
    {
      "cell_type": "markdown",
      "source": [
        "##9. How do you handle errors in Flask APIs?\n",
        "  -  Handling errors in Flask APIs is important to make your app more robust, secure, and user-friendly. Flask provides multiple ways to handle errors gracefully and return clear, consistent responses—especially in RESTful APIs.\n",
        "    -  Always return JSON responses with an error field in APIs.\n",
        "    - Include relevant HTTP status codes (like 400, 404, 500).\n",
        "    - Don’t expose internal errors or stack traces to users—log them instead.\n",
        "    - Use custom exception classes for complex apps (optional).\n",
        "\n"
      ],
      "metadata": {
        "id": "ej6bRzXhgzXx"
      }
    },
    {
      "cell_type": "markdown",
      "source": [
        "##10.How do you connect Flask to a SQL database?\n",
        "  - Connecting Flask to a SQL database typically involves using an ORM (Object-Relational Mapping) library like SQLAlchemy or directly using a database driver. The most popular and convenient way is to use Flask-SQLAlchemy, an extension that integrates SQLAlchemy with Flask."
      ],
      "metadata": {
        "id": "I5Rb_I8Ahgsg"
      }
    },
    {
      "cell_type": "markdown",
      "source": [
        "##11.What is the role of Flask-SQLAlchemy?\n",
        "  -  Flask-SQLAlchemy acts as a bridge between Flask and SQL databases, making database operations easier and more Pythonic by combining Flask’s simplicity with SQLAlchemy’s power.\n",
        "\n"
      ],
      "metadata": {
        "id": "VcBSdbNrhsZ5"
      }
    },
    {
      "cell_type": "markdown",
      "source": [
        "##12.What are Flask blueprints, and how are they useful?\n",
        "  - Flask Blueprints are a way to organize and structure a Flask application by grouping related routes, views, templates, and static files into reusable components or modules.\n",
        "    - Better Organization:\n",
        "Helps keep your codebase clean and modular by separating features (e.g., auth, blog, api) into different files or folders.\n",
        "   - Reusability:\n",
        "You can package blueprints and reuse them in other projects easily.\n",
        "   - Collaborative Development:\n",
        "Multiple developers can work on different blueprints without interfering with each other.\n",
        "   - Easier Maintenance & Scaling:\n",
        "As your app grows, blueprints make it easier to manage and maintain.\n",
        "\n"
      ],
      "metadata": {
        "id": "JNENS8iFi-SY"
      }
    },
    {
      "cell_type": "markdown",
      "source": [],
      "metadata": {
        "id": "DqbYexUSgw-f"
      }
    },
    {
      "cell_type": "markdown",
      "source": [
        "##13. What is the purpose of Flask's request object?\n",
        "  - It represents the current HTTP request that a client (browser, app, etc.) has sent to your Flask server.\n",
        "  - Through it, you can access details like:\n",
        "  - Form data sent via POST or PUT\n",
        "  - Query parameters from the URL (GET parameters)\n",
        "  - Headers (like authentication tokens or content type)\n",
        "  - Cookies\n",
        "  -Uploaded files\n",
        "  - The HTTP method used (GET, POST, etc.)\n",
        "  - The request body (raw data)\n",
        "  - Client information (IP address, user agent, etc.)"
      ],
      "metadata": {
        "id": "fvzfMBBUje8m"
      }
    },
    {
      "cell_type": "markdown",
      "source": [
        "##14.How do you create a RESTful API endpoint using Flask?\n",
        "  - Creating a RESTful API endpoint with Flask involves defining a route that handles HTTP methods (like GET, POST, etc.) and returns data—usually in JSON format. Here’s a simple step-by-step explanation:\n",
        "  - Step 1: Import Flask and Create an App\n",
        "  - Step 2: Define an API Endpoint\n",
        "  - Step 3: Run the App"
      ],
      "metadata": {
        "id": "d386Z4Vjlfi1"
      }
    },
    {
      "cell_type": "markdown",
      "source": [
        "##15.What is the purpose of Flask's jsonify() function?\n",
        "  - Returning a Python dictionary directly may work in some cases with recent Flask versions (automatically converted), but:\n",
        "  - You might not get the correct headers.\n",
        "  - It’s less explicit and could lead to issues.\n",
        "  - Using jsonify() is the recommended and explicit way to return JSON responses.\n",
        "\n"
      ],
      "metadata": {
        "id": "tG1DOJHfnqbY"
      }
    },
    {
      "cell_type": "markdown",
      "source": [
        "##16.Explain Flask’s url_for() function?\n",
        "  - Flask’s url_for() function is used to build URLs for your routes dynamically by referring to the name of the view function rather than hardcoding URLs as strings.\n",
        "\n"
      ],
      "metadata": {
        "id": "PMWtGmefoGc8"
      }
    },
    {
      "cell_type": "markdown",
      "source": [
        "##17.How does Flask handle static files (CSS, JavaScript, etc.)?\n",
        "  - Flask handles static files (like CSS, JavaScript, images) by serving them from a special folder called static inside your project directory."
      ],
      "metadata": {
        "id": "tIceCx96oeX-"
      }
    },
    {
      "cell_type": "markdown",
      "source": [
        "##18.What is an API specification, and how does it help in building a Flask API?\n",
        "  - An API specification is a formal, structured document or set of rules that defines how an API should behave — including its endpoints, request/response formats, parameters, authentication, error handling, and more.\n",
        "\n",
        "   - Clear Communication:\n",
        "Developers (backend, frontend, third-party) know exactly how to use the API.\n",
        "   - Design Before Coding:\n",
        "You can design and review the API interface before writing any code.\n",
        "   - Consistency:\n",
        "Ensures endpoints follow a standard structure and naming convention.\n",
        "   - Documentation:\n",
        "Auto-generate API docs that help consumers understand your API.\n",
        "   - Code Generation & Testing:\n",
        "Tools can generate server stubs and client SDKs, speeding up development.\n",
        "   - Validation:\n",
        "You can validate requests/responses against the specification to catch errors early."
      ],
      "metadata": {
        "id": "RM5nyyZBosQT"
      }
    },
    {
      "cell_type": "markdown",
      "source": [
        "##19. What are HTTP status codes, and why are they important in a Flask API?\n",
        "  - HTTP status codes are standardized three-digit numbers sent by a server in response to a client’s HTTP request. They indicate the result or outcome of the request—whether it succeeded, failed, or requires further action.\n",
        "   - Communicate Result Clearly:\n",
        "They tell the client (browser, mobile app, other API consumers) whether the request was successful, if there was an error, or if some other action is needed.\n",
        "    - Standardized Meaning:\n",
        "Since they’re part of the HTTP protocol, clients and tools understand what the codes mean without custom parsing.\n",
        "   - Control Flow & Error Handling:\n",
        "Clients can handle responses differently based on status codes (e.g., retry on 503, show error message on 400).\n",
        "   - RESTful Best Practices:\n",
        "Returning appropriate status codes makes your API intuitive and professional."
      ],
      "metadata": {
        "id": "eSmEg9pepMRa"
      }
    },
    {
      "cell_type": "markdown",
      "source": [
        "##20. How do you handle POST requests in Flask?\n",
        "  - Handling POST requests in Flask is a common task when building web forms or RESTful APIs—typically used to create new data or submit a form."
      ],
      "metadata": {
        "id": "vDx0SeAcqJOr"
      }
    },
    {
      "cell_type": "markdown",
      "source": [
        "##21.How would you secure a Flask API?\n",
        "  - Make sure only real users can access your API.\n",
        "  - Control what each user is allowed to do.\n",
        "  - Always treat input from users with caution.\n",
        "  - Use secure connections and disable risky settings in production.\n",
        "  - Monitor usage, limit abuse, and fix security issues regularly."
      ],
      "metadata": {
        "id": "JacGlFKoqbXm"
      }
    },
    {
      "cell_type": "markdown",
      "source": [
        "##22.What is the significance of the Flask-RESTful extension?\n",
        "  - The Flask-RESTful extension is a powerful tool that helps you build RESTful APIs in Flask more efficiently. It simplifies the process of creating and managing API endpoints by adding structure and helpful tools to plain Flask."
      ],
      "metadata": {
        "id": "Y6SuD_3rrIu6"
      }
    },
    {
      "cell_type": "markdown",
      "source": [
        "##23.What is the role of Flask’s session object?\n",
        "The role of Flask’s session object is to store information about a user across multiple requests — like keeping a user logged in or remembering their preferences.\n",
        "\n",
        "1. Track User Login State\n",
        "Keep users logged in across different pages or API calls.\n",
        "2. Store Temporary Preferences\n",
        "Save things like language choice, shopping cart contents, etc., just for that user's session."
      ],
      "metadata": {
        "id": "b33Wc8rUrXUo"
      }
    },
    {
      "cell_type": "markdown",
      "source": [
        "#Practical:"
      ],
      "metadata": {
        "id": "CmpXVBJTrxlz"
      }
    },
    {
      "cell_type": "markdown",
      "source": [
        "##1.How do you create a basic Flask application?\n",
        "  - Step 1: Install Flask\n",
        "If you haven’t already, install Flask using pip:"
      ],
      "metadata": {
        "id": "SMh7dSn_r21c"
      }
    },
    {
      "cell_type": "code",
      "source": [
        "pip install flask"
      ],
      "metadata": {
        "id": "hAqdS8xusdRY"
      },
      "execution_count": null,
      "outputs": []
    },
    {
      "cell_type": "markdown",
      "source": [
        "  -  Step 2: Create Your Flask App File\n",
        "Create a Python file, for example, app.py.\n",
        "  - Step 3: Write the Basic Flask Code"
      ],
      "metadata": {
        "id": "NLlEhHhMsgTz"
      }
    },
    {
      "cell_type": "code",
      "source": [
        "from flask import Flask\n",
        "app = Flask(__name__)\n",
        "@app.route('/')\n",
        "def home():\n",
        "    return \"Hello, Flask!\"\n",
        "if __name__ == '__main__':\n",
        "    app.run(debug=True)"
      ],
      "metadata": {
        "id": "OXS3o8dksrvc"
      },
      "execution_count": null,
      "outputs": []
    },
    {
      "cell_type": "markdown",
      "source": [
        "  - Step 4: Run the App"
      ],
      "metadata": {
        "id": "L4BO5UXys21F"
      }
    },
    {
      "cell_type": "markdown",
      "source": [
        "##2. How do you serve static files like images or CSS in Flask?\n",
        "  - Step 1: Create a static Folder"
      ],
      "metadata": {
        "id": "DLaydISBs8V1"
      }
    },
    {
      "cell_type": "code",
      "source": [
        "your_project/\n",
        "│\n",
        "├── app.py\n",
        "├── static/\n",
        "│   ├── style.css\n",
        "│   ├── script.js\n",
        "│   └── logo.png\n"
      ],
      "metadata": {
        "id": "tdpKX0M8vCro"
      },
      "execution_count": null,
      "outputs": []
    },
    {
      "cell_type": "markdown",
      "source": [
        "  - Step 2: Access Static Files in the Browser\n",
        "Any file in the static folder can be accessed through this URL pattern:"
      ],
      "metadata": {
        "id": "lqlQmhOAvERf"
      }
    },
    {
      "cell_type": "code",
      "source": [
        "/static/<filename>"
      ],
      "metadata": {
        "id": "QL_OWrDjvOyJ"
      },
      "execution_count": null,
      "outputs": []
    },
    {
      "cell_type": "markdown",
      "source": [
        "  -  Step 3: Link Static Files in HTML Templates\n",
        "Use Flask's url_for() function in your HTML templates to generate the correct path:\n",
        "\n",
        "\n"
      ],
      "metadata": {
        "id": "WlAm6xsevTJq"
      }
    },
    {
      "cell_type": "code",
      "source": [
        "<!doctype html>\n",
        "<html>\n",
        "<head>\n",
        "  <link rel=\"stylesheet\" href=\"{{ url_for('static', filename='style.css') }}\">\n",
        "</head>\n",
        "<body>\n",
        "  <img src=\"{{ url_for('static', filename='logo.png') }}\" alt=\"Logo\">\n",
        "</body>\n",
        "</html>"
      ],
      "metadata": {
        "id": "1zgd15rZvcUn"
      },
      "execution_count": null,
      "outputs": []
    },
    {
      "cell_type": "markdown",
      "source": [
        "##3. How do you define different routes with different HTTP methods in Flask?"
      ],
      "metadata": {
        "id": "9dzNnhacvf4v"
      }
    },
    {
      "cell_type": "code",
      "source": [
        "@app.route('/users', methods=['GET'])\n",
        "def get_users():\n",
        "    return jsonify(users=[\"Alice\", \"Bob\"])\n",
        "\n",
        "@app.route('/users', methods=['POST'])\n",
        "def create_user():\n",
        "    user = request.get_json()\n",
        "    return jsonify(message=\"User added\", user=user), 201"
      ],
      "metadata": {
        "id": "X4Hoip-Tv8LI"
      },
      "execution_count": null,
      "outputs": []
    },
    {
      "cell_type": "markdown",
      "source": [
        "##4. How do you render HTML templates in Flask?"
      ],
      "metadata": {
        "id": "M0sOtBbOwB-p"
      }
    },
    {
      "cell_type": "code",
      "source": [
        "from flask import Flask, render_template\n",
        "\n",
        "app = Flask(__name__)\n",
        "\n",
        "@app.route('/')\n",
        "def home():\n",
        "    return render_template('index.html', name='Alice')"
      ],
      "metadata": {
        "id": "WysEPUPjwZ4g"
      },
      "execution_count": null,
      "outputs": []
    },
    {
      "cell_type": "markdown",
      "source": [
        "##5. How can you generate URLs for routes in Flask using url_for?"
      ],
      "metadata": {
        "id": "gqevyRbbwbK2"
      }
    },
    {
      "cell_type": "code",
      "source": [
        "from flask import url_for\n",
        "\n",
        "url_for('about')  # Returns: '/about'"
      ],
      "metadata": {
        "id": "PtnBWcz4wozT"
      },
      "execution_count": null,
      "outputs": []
    },
    {
      "cell_type": "markdown",
      "source": [
        "##6. How do you handle forms in Flask?"
      ],
      "metadata": {
        "id": "PLFBcpRuwr6h"
      }
    },
    {
      "cell_type": "markdown",
      "source": [
        "Step 1: Create an HTML Form"
      ],
      "metadata": {
        "id": "IBwSeFaUxHDf"
      }
    },
    {
      "cell_type": "code",
      "source": [
        "<!doctype html>\n",
        "<html>\n",
        "<head><title>Simple Form</title></head>\n",
        "<body>\n",
        "  <form method=\"POST\" action=\"/submit\">\n",
        "    <label for=\"name\">Name:</label>\n",
        "    <input type=\"text\" id=\"name\" name=\"name\" required>\n",
        "\n",
        "    <input type=\"submit\" value=\"Submit\">\n",
        "  </form>\n",
        "</body>\n",
        "</html>"
      ],
      "metadata": {
        "id": "JHt9RVO6xCTD"
      },
      "execution_count": null,
      "outputs": []
    },
    {
      "cell_type": "markdown",
      "source": [
        "Step 2: Create Flask Routes to Show and Handle the Form"
      ],
      "metadata": {
        "id": "6A4enDc7xK8N"
      }
    },
    {
      "cell_type": "code",
      "source": [
        "from flask import Flask, request, render_template\n",
        "\n",
        "app = Flask(__name__)\n",
        "\n",
        "# Route to display the form\n",
        "@app.route('/form')\n",
        "def form():\n",
        "    return render_template('form.html')\n",
        "\n",
        "# Route to handle form submission\n",
        "@app.route('/submit', methods=['POST'])\n",
        "def submit():\n",
        "    name = request.form.get('name')  # Extract form data\n",
        "    return f\"Hello, {name}! Your form has been submitted.\""
      ],
      "metadata": {
        "id": "Zig7AHF3xPoQ"
      },
      "execution_count": null,
      "outputs": []
    },
    {
      "cell_type": "markdown",
      "source": [
        "##7.How can you validate form data in Flask?"
      ],
      "metadata": {
        "id": "_mMK8HuFxThy"
      }
    },
    {
      "cell_type": "code",
      "source": [
        "from flask import Flask, request, render_template\n",
        "\n",
        "app = Flask(__name__)\n",
        "\n",
        "@app.route('/submit', methods=['POST'])\n",
        "def submit():\n",
        "    name = request.form.get('name')\n",
        "\n",
        "    if not name or len(name) < 3:\n",
        "        return \"Name is required and must be at least 3 characters.\", 400\n",
        "\n",
        "    return f\"Hello, {name}!\""
      ],
      "metadata": {
        "id": "PLwLWkA2xdoX"
      },
      "execution_count": null,
      "outputs": []
    },
    {
      "cell_type": "markdown",
      "source": [
        "##8. How do you manage sessions in Flask?"
      ],
      "metadata": {
        "id": "0S_I32apxr8Q"
      }
    },
    {
      "cell_type": "code",
      "source": [
        "from flask import Flask, session, redirect, url_for, request\n",
        "\n",
        "app = Flask(__name__)\n",
        "app.secret_key = 'secret_key'\n",
        "\n",
        "@app.route('/login', methods=['GET', 'POST'])\n",
        "def login():\n",
        "    if request.method == 'POST':\n",
        "        username = request.form['username']\n",
        "        # Normally, validate user here\n",
        "        session['username'] = username\n",
        "        return redirect(url_for('profile'))\n",
        "    return '''\n",
        "        <form method=\"post\">\n",
        "            Username: <input name=\"username\">\n",
        "            <input type=\"submit\" value=\"Login\">\n",
        "        </form>\n",
        "    '''\n",
        "\n",
        "@app.route('/profile')\n",
        "def profile():\n",
        "    if 'username' in session:\n",
        "        return f'Logged in as {session[\"username\"]}'\n",
        "    return 'You are not logged in'\n",
        "\n",
        "@app.route('/logout')\n",
        "def logout():\n",
        "    session.pop('username', None)\n",
        "    return 'You have logged out'"
      ],
      "metadata": {
        "id": "bVTzv1_jx30R"
      },
      "execution_count": null,
      "outputs": []
    },
    {
      "cell_type": "markdown",
      "source": [
        "##9.How do you redirect to a different route in Flask?"
      ],
      "metadata": {
        "id": "d_hXivZVx5WP"
      }
    },
    {
      "cell_type": "code",
      "source": [
        "from flask import Flask, redirect, url_for\n",
        "\n",
        "app = Flask(__name__)\n",
        "\n",
        "@app.route('/')\n",
        "def home():\n",
        "    return \"Welcome Home!\"\n",
        "\n",
        "@app.route('/go-home')\n",
        "def go_home():\n",
        "    return redirect(url_for('home'))"
      ],
      "metadata": {
        "id": "mQM_WhaEyBd1"
      },
      "execution_count": null,
      "outputs": []
    },
    {
      "cell_type": "markdown",
      "source": [
        "##10. How do you handle errors in Flask (e.g., 404)?"
      ],
      "metadata": {
        "id": "MiEltV7SyCvR"
      }
    },
    {
      "cell_type": "code",
      "source": [
        "from flask import Flask, render_template\n",
        "\n",
        "app = Flask(__name__)\n",
        "\n",
        "@app.errorhandler(404)\n",
        "def page_not_found(e):\n",
        "    return render_template('404.html'), 404"
      ],
      "metadata": {
        "id": "Ukf0J_2qyMOl"
      },
      "execution_count": null,
      "outputs": []
    },
    {
      "cell_type": "markdown",
      "source": [
        "##11.How do you structure a Flask app using Blueprints?"
      ],
      "metadata": {
        "id": "UQoBssoGyNbW"
      }
    },
    {
      "cell_type": "code",
      "source": [
        "from flask import render_template\n",
        "from . import users_bp\n",
        "\n",
        "@users_bp.route('/profile')\n",
        "def profile():\n",
        "    return render_template('users/profile.html')"
      ],
      "metadata": {
        "id": "wfzqTIPlyXsE"
      },
      "execution_count": null,
      "outputs": []
    },
    {
      "cell_type": "markdown",
      "source": [
        "##12.How do you define a custom Jinja filter in Flask?\n"
      ],
      "metadata": {
        "id": "1VIvwG4CyZBa"
      }
    },
    {
      "cell_type": "code",
      "source": [
        "from flask import Flask\n",
        "\n",
        "app = Flask(__name__)\n",
        "\n",
        "@app.template_filter('uppercase')\n",
        "def uppercase(text):\n",
        "    return text.upper()"
      ],
      "metadata": {
        "id": "ySHRGklayoxb"
      },
      "execution_count": null,
      "outputs": []
    },
    {
      "cell_type": "markdown",
      "source": [
        "##13. How can you redirect with query parameters in Flask?\n"
      ],
      "metadata": {
        "id": "LPg5vtl6yqn3"
      }
    },
    {
      "cell_type": "code",
      "source": [
        "from flask import Flask, redirect, url_for\n",
        "\n",
        "app = Flask(__name__)\n",
        "\n",
        "@app.route('/go-search')\n",
        "def go_search():\n",
        "    # Pass query parameters as kwargs\n",
        "    return redirect(url_for('search', q='flask', page=2))\n",
        "\n",
        "@app.route('/search')\n",
        "def search():\n",
        "    # You can access query parameters using request.args\n",
        "    from flask import request\n",
        "    query = request.args.get('q')\n",
        "    page = request.args.get('page')\n",
        "    return f\"Search query: {query}, Page: {page}\""
      ],
      "metadata": {
        "id": "nh3QqW3vyz1w"
      },
      "execution_count": null,
      "outputs": []
    },
    {
      "cell_type": "markdown",
      "source": [
        "##14. How do you return JSON responses in Flask?"
      ],
      "metadata": {
        "id": "m7qfjR_py1If"
      }
    },
    {
      "cell_type": "code",
      "source": [
        "from flask import Flask, jsonify\n",
        "\n",
        "app = Flask(__name__)\n",
        "\n",
        "@app.route('/api/data')\n",
        "def api_data():\n",
        "    data = {\n",
        "        'name': 'Alice',\n",
        "        'age': 30,\n",
        "        'city': 'New York'\n",
        "    }\n",
        "    return jsonify(data)"
      ],
      "metadata": {
        "id": "B-d4yUKMy-j9"
      },
      "execution_count": null,
      "outputs": []
    },
    {
      "cell_type": "markdown",
      "source": [
        "##15.How do you capture URL parameters in Flask?"
      ],
      "metadata": {
        "id": "y4bgqFZHy_uU"
      }
    },
    {
      "cell_type": "code",
      "source": [
        "@app.route('/user/<username>')\n",
        "def show_user(username):\n",
        "    return f'User: {username}'"
      ],
      "metadata": {
        "id": "YFpwZBPQzKUq"
      },
      "execution_count": null,
      "outputs": []
    }
  ]
}